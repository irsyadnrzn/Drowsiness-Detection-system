{
 "cells": [
  {
   "attachments": {},
   "cell_type": "markdown",
   "metadata": {},
   "source": [
    "Import The Library"
   ]
  },
  {
   "cell_type": "code",
   "execution_count": 2,
   "metadata": {},
   "outputs": [],
   "source": [
    "import os\n",
    "import numpy as np\n",
    "import matplotlib.pyplot as plt\n",
    "import tensorflow as tf\n",
    "import cv2 as cv\n",
    "import joblib \n",
    "\n",
    "from sklearn import svm\n",
    "from sklearn.model_selection import StratifiedKFold, RepeatedStratifiedKFold\n",
    "from sklearn.metrics import classification_report, confusion_matrix, ConfusionMatrixDisplay, accuracy_score\n",
    "from sklearn.metrics import accuracy_score, roc_curve, roc_auc_score\n",
    "from keras.models import Sequential\n",
    "from keras.layers import Conv2D, MaxPooling2D, Dropout, Dense, Flatten, AveragePooling2D"
   ]
  },
  {
   "attachments": {},
   "cell_type": "markdown",
   "metadata": {},
   "source": [
    "# Manage Working Directory For ImageDataGenerator"
   ]
  },
  {
   "cell_type": "code",
   "execution_count": null,
   "metadata": {},
   "outputs": [],
   "source": [
    "train_dir = os.path.join(os.getcwd(), 'Dataset/train_data')\n",
    "print(train_dir)\n",
    "\n",
    "valid_dir = os.path.join(os.getcwd(), 'Dataset/valid_data')\n",
    "print(valid_dir)\n",
    "\n",
    "test_dir = os.path.join(os.getcwd(), 'Dataset/test_data')\n",
    "print(test_dir)"
   ]
  },
  {
   "attachments": {},
   "cell_type": "markdown",
   "metadata": {},
   "source": [
    "# Create ImageGenerator and Preprocessing\n",
    "\n",
    "To use the code bellow, you have to generate image based on the CNN or SVM needs. One thing you have to make sure is the \"target_size\". Change it based on the input of CNN Model size"
   ]
  },
  {
   "cell_type": "code",
   "execution_count": null,
   "metadata": {},
   "outputs": [],
   "source": [
    "#Image Generator for Training\n",
    "train_datagen = tf.keras.preprocessing.image.ImageDataGenerator(rescale=1./255)\n",
    "\n",
    "print(\"--------------Training Data--------------\")\n",
    "train_generator = train_datagen.flow_from_directory(\n",
    "    directory = train_dir,\n",
    "    shuffle = True,\n",
    "    seed = 42,\n",
    "    target_size = (24,24),\n",
    "    color_mode= \"grayscale\",\n",
    "    #batch_size= 32,\n",
    "    class_mode= \"binary\"\n",
    ")\n",
    "print(\"Image shape = \", train_generator.image_shape)\n",
    "\n",
    "#Image Generator for Validating\n",
    "valid_datagen = tf.keras.preprocessing.image.ImageDataGenerator(rescale=1./255)\n",
    "\n",
    "print(\"\\n--------------Validation Data--------------\")\n",
    "valid_generator = valid_datagen.flow_from_directory(\n",
    "    directory = valid_dir,\n",
    "    shuffle = True,\n",
    "    target_size = (24,24),\n",
    "    color_mode= \"grayscale\",\n",
    "    #batch_size= 32,\n",
    "    class_mode= \"binary\",\n",
    "    seed = 42,\n",
    ")\n",
    "print(\"Image shape = \", valid_generator.image_shape)\n",
    "\n",
    "#Image Generator for testing\n",
    "test_datagen = tf.keras.preprocessing.image.ImageDataGenerator(rescale=1./255)\n",
    "\n",
    "print(\"\\n--------------Test Data--------------\")\n",
    "test_generator = test_datagen.flow_from_directory(\n",
    "    directory = test_dir,\n",
    "    shuffle = False,\n",
    "    target_size = (24,24),\n",
    "    color_mode= \"grayscale\",\n",
    "    #batch_size= 32,\n",
    "    class_mode= \"binary\",\n",
    "    seed = 42,\n",
    ")\n",
    "print(\"Image shape = \", test_generator.image_shape)\n",
    "\n",
    "# Define Step per Epoch and Validation Step\n",
    "batch_size = 32\n",
    "SPE = len(train_generator.classes)//batch_size\n",
    "VS = len(valid_generator.classes)//batch_size "
   ]
  },
  {
   "cell_type": "markdown",
   "metadata": {},
   "source": [
    "# SVM"
   ]
  },
  {
   "cell_type": "markdown",
   "metadata": {},
   "source": [
    "### feature Extraction for SVM"
   ]
  },
  {
   "cell_type": "code",
   "execution_count": 7,
   "metadata": {},
   "outputs": [],
   "source": [
    "#Extraction for Training \n",
    "x_train, y_train = [],[]\n",
    "for i in range(len(train_generator)):\n",
    "    batch_x, batch_y = train_generator[i]\n",
    "    x_train.extend(batch_x)\n",
    "    y_train.extend(batch_y)\n",
    "    \n",
    "X = np.array(x_train)\n",
    "y = np.array(y_train)\n",
    "X = X.reshape(X.shape[0],-1)\n",
    "\n",
    "#Extraction for Training \n",
    "x_test, y_test = [],[]\n",
    "for i in range(len(test_generator)):\n",
    "    batch_x, batch_y = test_generator[i]\n",
    "    x_test.extend(batch_x)\n",
    "    y_test.extend(batch_y)\n",
    "    \n",
    "x_test = np.array(x_test)\n",
    "y_test = np.array(y_test)\n",
    "x_test = x_test.reshape(x_test.shape[0],-1)"
   ]
  },
  {
   "cell_type": "markdown",
   "metadata": {},
   "source": [
    "### Training SVM using Split validation Method\n",
    "\n",
    "On the Code Bellow, the default kernel used is 'sigmoid'. Just change the kernel ini svm.SVC to use different kernel. For example, Poly to use polynomial kernel"
   ]
  },
  {
   "cell_type": "code",
   "execution_count": 19,
   "metadata": {},
   "outputs": [
    {
     "name": "stdout",
     "output_type": "stream",
     "text": [
      "Training Accuracy: 0.6666666666666666\n",
      "Validation Accuracy: 0.5\n"
     ]
    }
   ],
   "source": [
    "clf = svm.SVC(kernel='sigmoid')\n",
    "\n",
    "# Train the SVM model on the training data\n",
    "clf.fit(X, y)\n",
    "\n",
    "# Predict labels for the training and validation sets\n",
    "y_train_pred = clf.predict(X)\n",
    "y_val_pred = clf.predict(x_test)\n",
    "\n",
    "# Calculate and print training accuracy\n",
    "train_accuracy = accuracy_score(y, y_train_pred)\n",
    "print(\"Training Accuracy:\", train_accuracy)\n",
    "\n",
    "# Calculate and print validation accuracy\n",
    "val_accuracy = accuracy_score(y_test, y_val_pred)\n",
    "print(\"Validation Accuracy:\", val_accuracy)"
   ]
  },
  {
   "cell_type": "markdown",
   "metadata": {},
   "source": [
    "### Saving trained model \n",
    "\n"
   ]
  },
  {
   "cell_type": "code",
   "execution_count": 18,
   "metadata": {},
   "outputs": [],
   "source": [
    "# change the path to save it depend on the kernel you use. The default will be in sigmoid folder\n",
    "os.chdir(\"Training Results/SVM/Sigmoid\")\n",
    "\n",
    "results = {\n",
    "    \"Train_Accuracies\": train_accuracy,\n",
    "    \"Validation_Accuracies\": val_accuracy,\n",
    "}\n",
    "\n",
    "model_filename = \"svm_poly_split.pkl\"\n",
    "joblib.dump(clf, model_filename)\n",
    "\n",
    "np.save('svm_poly_split.npy', results)"
   ]
  },
  {
   "cell_type": "markdown",
   "metadata": {},
   "source": [
    "### Training SVM Model using Stratified k-fold or repeated k-fold cross validation\n",
    "\n",
    "On the Code Bellow, the default kernel used is 'rbf'. Just change the kernel ini svm.SVC to use different kernel. For example, Poly to use polynomial kernel"
   ]
  },
  {
   "cell_type": "code",
   "execution_count": null,
   "metadata": {},
   "outputs": [],
   "source": [
    "# Create an SVM model\n",
    "svm_model = svm.SVC(kernel='rbf')\n",
    "\n",
    "# Create Stratified K-Fold Cross Validator\n",
    "stratified_kfold = StratifiedKFold(n_splits=15, shuffle=True, random_state=42)\n",
    "\n",
    "# Create Repeated Stratified K-Fold Cross Validator\n",
    "repeated_kfold = RepeatedStratifiedKFold(n_splits=5, n_repeats=3, random_state=42)\n",
    "\n",
    "# Lists to store accuracy scores for each fold\n",
    "train_accuracies = []\n",
    "validation_accuracies = []\n",
    "\n",
    "# Perform Stratified K-Fold Cross Validation. change the 'stratified_kfold' to 'repeated_kfold' if you want to perform another method\n",
    "for train_index, val_index in stratified_kfold.split(X, y):\n",
    "    X_train, X_val = X[train_index], X[val_index]\n",
    "    y_train, y_val = y[train_index], y[val_index]\n",
    "\n",
    "    # Train the model\n",
    "    svm_model.fit(X_train, y_train)\n",
    "\n",
    "    # Predictions on training set\n",
    "    train_predictions = svm_model.predict(X_train) \n",
    "    train_accuracy = accuracy_score(y_train, train_predictions)\n",
    "    train_accuracies.append(train_accuracy)\n",
    "\n",
    "    # Predictions on validation set\n",
    "    val_predictions = svm_model.predict(X_val)\n",
    "    validation_accuracy = accuracy_score(y_val, val_predictions)\n",
    "    validation_accuracies.append(validation_accuracy)\n",
    "\n",
    "# Print the results\n",
    "print(f\"Train Accuracies: {train_accuracies}\")\n",
    "print(f\"Validation Accuracies: {validation_accuracies}\")\n",
    "print(f\"Mean Train Accuracy: {np.mean(train_accuracies)}\")\n",
    "print(f\"Mean Validation Accuracy: {np.mean(validation_accuracies)}\")"
   ]
  },
  {
   "cell_type": "markdown",
   "metadata": {},
   "source": [
    "### saving the trained model and trainig result "
   ]
  },
  {
   "cell_type": "code",
   "execution_count": 126,
   "metadata": {},
   "outputs": [],
   "source": [
    "os.chdir(\"Training Results/SVM/Rbf\")\n",
    "\n",
    "results = {\n",
    "    \"Train_Accuracies\": train_accuracies,\n",
    "    \"Validation_Accuracies\": validation_accuracies,\n",
    "    \"Mean_Train_Accuracy\": np.mean(train_accuracies),\n",
    "    \"Mean_Validation_Accuracy\": np.mean(validation_accuracies)\n",
    "}\n",
    "\n",
    "model_filename = \"svm_rbf_stratifiedKF.pkl\"\n",
    "joblib.dump(svm_model, model_filename)\n",
    "\n",
    "np.save('svm_rbf_stratifiedKF.npy', results)"
   ]
  },
  {
   "cell_type": "markdown",
   "metadata": {},
   "source": [
    "## Showing the Confusion Matrix of SVM MOdel"
   ]
  },
  {
   "cell_type": "code",
   "execution_count": null,
   "metadata": {},
   "outputs": [],
   "source": [
    "from sklearn.metrics import classification_report, confusion_matrix, ConfusionMatrixDisplay\n",
    "\n",
    "# change the directory to model directory you want. Default as polynomial kernel, using split validation method\n",
    "my_model = joblib.load(\n",
    "    'Training Results/SVM/Polynomial/svm_poly_split.pkl')\n",
    "\n",
    "# Predict classes\n",
    "y_pred = my_model.predict(x_test)\n",
    "\n",
    "# Evaluating Model Performance\n",
    "accuracy = accuracy_score(y_test, y_pred)\n",
    "print(f'Akurasi: {accuracy}')\n",
    "\n",
    "print('Confusion Matrix')\n",
    "confusion_matrix = confusion_matrix(test_generator.classes, y_pred)\n",
    "print(confusion_matrix)\n",
    "print('Classification Report')\n",
    "target_names = ['Closed Eye', 'Open Eye']\n",
    "print(classification_report(test_generator.classes, y_pred, target_names=target_names))\n",
    "\n",
    "# Display the Confusion Matrix\n",
    "cm_display = ConfusionMatrixDisplay(confusion_matrix = confusion_matrix, display_labels = target_names)\n",
    "\n",
    "cm_display.plot()\n",
    "plt.title(\"Confusion Matrix, kernel = polynomial\")\n",
    "plt.show()"
   ]
  },
  {
   "cell_type": "markdown",
   "metadata": {},
   "source": [
    "### Showing the ROC Graph of SVM model"
   ]
  },
  {
   "cell_type": "code",
   "execution_count": null,
   "metadata": {},
   "outputs": [],
   "source": [
    "# Calculate ROC curve\n",
    "fpr, tpr, thresholds = roc_curve(test_generator.classes, y_pred)\n",
    "\n",
    "# Calculate AUC score\n",
    "auc = roc_auc_score(test_generator.classes, y_pred)\n",
    "\n",
    "plt.plot(fpr, tpr, color='darkorange', lw=2, label=f'AUC = {auc:.2f}')\n",
    "plt.xlabel('False Positive Rate (FPR)')\n",
    "plt.ylabel('True Positive Rate (TPR)')\n",
    "plt.title(' Grafik ROC,  SVM Polynomial')\n",
    "plt.legend(loc='lower right')\n",
    "plt.show()"
   ]
  },
  {
   "attachments": {},
   "cell_type": "markdown",
   "metadata": {},
   "source": [
    "# CNN Model "
   ]
  },
  {
   "cell_type": "markdown",
   "metadata": {},
   "source": [
    "Model CNN-1"
   ]
  },
  {
   "cell_type": "code",
   "execution_count": null,
   "metadata": {},
   "outputs": [],
   "source": [
    "modelCNN_1 = Sequential([\n",
    "    Conv2D(32, (3,3), activation = \"relu\", input_shape = (24,24,1)),\n",
    "    MaxPooling2D((2,2)),\n",
    "    Conv2D(32, (3,3), activation = \"relu\"),\n",
    "    MaxPooling2D((2,2)),\n",
    "    Conv2D(64, (3,3), activation = \"relu\"),\n",
    "    Dropout(0.5),\n",
    "    Flatten(),\n",
    "    Dropout(0.3),\n",
    "    Dense(128, activation = \"relu\"),\n",
    "    Dropout(0.3),\n",
    "    Dense(4, activation = \"relu\"),\n",
    "    Dropout(0.3),\n",
    "    Dense(1, activation = \"sigmoid\")\n",
    "])\n",
    "\n",
    "modelCNN_1.summary()"
   ]
  },
  {
   "cell_type": "markdown",
   "metadata": {},
   "source": [
    "Model CNN-2"
   ]
  },
  {
   "cell_type": "code",
   "execution_count": null,
   "metadata": {},
   "outputs": [],
   "source": [
    "modelCNN_2 = Sequential([\n",
    "    Conv2D(32, (3,3), activation = \"relu\", input_shape = (24,24,1)),\n",
    "    AveragePooling2D((2,2)),\n",
    "    Conv2D(32, (3,3), activation = \"relu\"),\n",
    "    AveragePooling2D((2,2)),\n",
    "    Conv2D(64, (3,3), activation = \"relu\"),\n",
    "    AveragePooling2D((2,2)),\n",
    "    Flatten(),\n",
    "    Dense(128, activation = \"relu\"),\n",
    "    Dense(84, activation = \"relu\"),\n",
    "    Dense(1, activation = \"sigmoid\")\n",
    "])\n",
    "\n",
    "modelCNN_2.summary()"
   ]
  },
  {
   "cell_type": "markdown",
   "metadata": {},
   "source": [
    "Model CNN-3"
   ]
  },
  {
   "cell_type": "code",
   "execution_count": null,
   "metadata": {},
   "outputs": [],
   "source": [
    "modelCNN_3 = Sequential([\n",
    "    Conv2D(32, (3,3), activation = \"relu\", input_shape = (30,30,1)),\n",
    "    MaxPooling2D((2,2)),\n",
    "    Conv2D(64, (3,3), activation = \"relu\"),\n",
    "    MaxPooling2D((2,2)),\n",
    "    Conv2D(128, (3,3), activation = \"relu\"),\n",
    "    MaxPooling2D((2,2)),\n",
    "    Flatten(),\n",
    "    Dropout(0.3),\n",
    "    Dense(128, activation = \"relu\"),\n",
    "    Dropout(0.3),\n",
    "    Dense(1, activation = \"sigmoid\")\n",
    "])\n",
    "\n",
    "modelCNN_3.summary()"
   ]
  },
  {
   "cell_type": "markdown",
   "metadata": {},
   "source": [
    "Model CNN-4"
   ]
  },
  {
   "cell_type": "code",
   "execution_count": null,
   "metadata": {},
   "outputs": [],
   "source": [
    "myModel = Sequential([\n",
    "    Conv2D(64, (3,3), activation = \"relu\", input_shape = (86,86,1)),\n",
    "    MaxPooling2D((2,2)),\n",
    "    Conv2D(32, (3,3), activation = \"relu\"),\n",
    "    MaxPooling2D((2,2)),\n",
    "    Conv2D(32, (3,3), activation = \"relu\"),\n",
    "    MaxPooling2D((2,2)),\n",
    "    Conv2D(16, (3,3), activation = \"relu\"),\n",
    "    MaxPooling2D((2,2)),\n",
    "    Conv2D(16, (3,3), activation = \"relu\"),\n",
    "    Flatten(),\n",
    "    Dropout(0.5),\n",
    "    Dense(128, activation = \"relu\"),\n",
    "    Dropout(0.3),\n",
    "    Dense(64, activation = \"relu\"),\n",
    "    Dropout(0.2),\n",
    "    Dense(1, activation = \"sigmoid\")\n",
    "])\n",
    "\n",
    "myModel.summary()"
   ]
  },
  {
   "attachments": {},
   "cell_type": "markdown",
   "metadata": {},
   "source": [
    "### Compile and Fit/train Model\n",
    "\n",
    "Change the modelCNN_1 to the Model you use. For example if you want to use CNN Model 3, change it to 'modelCNN_3'"
   ]
  },
  {
   "cell_type": "code",
   "execution_count": null,
   "metadata": {},
   "outputs": [],
   "source": [
    "# compile the model\n",
    "modelCNN_1.compile(\n",
    "    loss= \"binary_crossentropy\",\n",
    "    optimizer= \"adam\",\n",
    "    metrics= [\"accuracy\"]\n",
    ")\n",
    "\n",
    "# traing the model and save the training results to a variable called history\n",
    "history = modelCNN_1.fit(\n",
    "                train_generator,\n",
    "                steps_per_epoch= SPE,\n",
    "                validation_data= valid_generator,\n",
    "                validation_steps= VS,\n",
    "                epochs=150,\n",
    "            )"
   ]
  },
  {
   "cell_type": "markdown",
   "metadata": {},
   "source": [
    "# Saving the trained Model and its metric values\n",
    "\n",
    "Change the modelCNN_1 to the model you used on training."
   ]
  },
  {
   "cell_type": "code",
   "execution_count": 8,
   "metadata": {},
   "outputs": [],
   "source": [
    "modelCNN_1.save(\"Training Results/CNN Model-2/750 Epoch/modelCNN_2_75Epoch.h5\")\n",
    "np.save(\"Training Results/CNN Model-2/750 Epoch/modelCNN_2_75Epoch.npy\", history)"
   ]
  },
  {
   "cell_type": "markdown",
   "metadata": {},
   "source": [
    "### Showing the training accuracy and loss"
   ]
  },
  {
   "cell_type": "code",
   "execution_count": 21,
   "metadata": {},
   "outputs": [
    {
     "name": "stdout",
     "output_type": "stream",
     "text": [
      "Training Accuracy =  0.965499997138977\n",
      "Validation Accuracy =  0.9375\n",
      "Training loss =  0.10530912131071091\n",
      "Validation loss =  0.19127388298511505\n"
     ]
    },
    {
     "data": {
      "image/png": "[encoded data removed]",
      "text/plain": [
       "<Figure size 640x480 with 1 Axes>"
      ]
     },
     "metadata": {},
     "output_type": "display_data"
    },
    {
     "data": {
      "image/png": "[encoded data removed]",
      "text/plain": [
       "<Figure size 640x480 with 1 Axes>"
      ]
     },
     "metadata": {},
     "output_type": "display_data"
    }
   ],
   "source": [
    "my_history = np.load(\n",
    "    \"Training Results/CNN Model-2/750 Epoch/modelCNN_2_75Epoch.np\"\n",
    "    ,allow_pickle='TRUE').item()\n",
    "\n",
    "acc      = my_history[ 'accuracy' ]\n",
    "val_acc  = my_history[ 'val_accuracy' ]\n",
    "loss     = my_history[ 'loss' ]\n",
    "val_loss = my_history[ 'val_loss' ]\n",
    "\n",
    "epochs   = range(len(acc)) # Get number of epochs\n",
    "\n",
    "print(\"Training Accuracy = \",acc[-1])\n",
    "print(\"Validation Accuracy = \",val_acc[-1])\n",
    "print(\"Training loss = \",loss[-1])\n",
    "print(\"Validation loss = \",val_loss[-1])\n",
    "\n",
    "# Plot training and validation accuracy per epoch\n",
    "plt.plot(epochs, acc, label = 'training')\n",
    "plt.plot(epochs, val_acc, label = 'validating')\n",
    "plt.xlabel(\"Epoch\")\n",
    "plt.ylabel(\"Akurasi(%)\")\n",
    "plt.title('Training and validation accuracy, Epoch = 150 Epoch')\n",
    "plt.axis(ymin=0.7,ymax = 1.0)\n",
    "plt.legend(loc = 'lower right')\n",
    "plt.show()\n",
    "\n",
    "# Plot training and validation loss per epoch\n",
    "plt.plot(epochs, loss, label = 'training')\n",
    "plt.plot(epochs, val_loss, label = 'validating')\n",
    "plt.xlabel(\"Epoch\")\n",
    "plt.ylabel(\"loss(%)\")\n",
    "plt.title ('Training and validation loss, Epoch = 150 Epoch')\n",
    "plt.legend(loc = 'upper right')\n",
    "plt.show()"
   ]
  },
  {
   "cell_type": "markdown",
   "metadata": {},
   "source": [
    "### Showing Confusion Matrix of the model"
   ]
  },
  {
   "cell_type": "code",
   "execution_count": null,
   "metadata": {},
   "outputs": [],
   "source": [
    "from sklearn.metrics import classification_report, confusion_matrix, ConfusionMatrixDisplay\n",
    "#Confution Matrix and Classification Report\n",
    "\n",
    "#Load the model \n",
    "my_model = tf.keras.models.load_model(\n",
    "    'Training Results/CNN Model-2/750 Epoch/modelCNN_2_75Epoch.h5')\n",
    "\n",
    "Y_pred = my_model.predict(test_generator)\n",
    "y_pred = np.round(Y_pred).tolist()\n",
    "\n",
    "print('Confusion Matrix')\n",
    "confusion_matrix = confusion_matrix(test_generator.classes, y_pred)\n",
    "print(confusion_matrix)\n",
    "print('Classification Report')\n",
    "target_names = ['Closed Eye', 'Open Eye']\n",
    "print(classification_report(test_generator.classes, y_pred, target_names=target_names))\n",
    "\n",
    "cm_display = ConfusionMatrixDisplay(confusion_matrix = confusion_matrix, display_labels = target_names)\n",
    "\n",
    "cm_display.plot()\n",
    "plt.title(\"Confusion Matrix, CNN Model-1\")\n",
    "plt.show()"
   ]
  },
  {
   "cell_type": "markdown",
   "metadata": {},
   "source": [
    "### Showing ROC Graph of the Model "
   ]
  },
  {
   "cell_type": "code",
   "execution_count": 58,
   "metadata": {},
   "outputs": [
    {
     "data": {
      "image/png": "[encoded data removed]",
      "text/plain": [
       "<Figure size 640x480 with 1 Axes>"
      ]
     },
     "metadata": {},
     "output_type": "display_data"
    }
   ],
   "source": [
    "# Calculate ROC curve\n",
    "fpr, tpr, thresholds = roc_curve(test_generator.classes, y_pred)\n",
    "\n",
    "# Calculate AUC score\n",
    "auc = roc_auc_score(test_generator.classes, y_pred)\n",
    "\n",
    "plt.plot(fpr, tpr, color='darkorange', lw=2, label=f'AUC = {auc:.2f}')\n",
    "plt.xlabel('False Positive Rate (FPR)')\n",
    "plt.ylabel('True Positive Rate (TPR)')\n",
    "plt.title(' Grafik ROC, CNN model-3')\n",
    "plt.legend(loc='lower right')\n",
    "plt.show()\n"
   ]
  },
  {
   "cell_type": "markdown",
   "metadata": {},
   "source": [
    "## Test the Prediction Score"
   ]
  },
  {
   "cell_type": "code",
   "execution_count": null,
   "metadata": {},
   "outputs": [],
   "source": [
    "img_array = cv.imread(\"Dataset/test_data/open_eyes/s0011_01534_0_0_1_0_0_01.png\") \n",
    "\n",
    "plt.imshow(img_array)\n",
    "\n",
    "img_gray = cv.cvtColor(img_array, cv.COLOR_BGR2GRAY)\n",
    "print(\"Original Shape = \", img_gray.shape)\n",
    "\n",
    "img_resize = cv.resize(img_gray,(24, 24))\n",
    "print(\"Resized Imaged Shape = \", img_resize.shape)\n",
    "\n",
    "img_arr = np.array(img_resize)\n",
    "print(\"Array Imaged Shape = \", img_arr.shape)\n",
    "\n",
    "img_reshape = img_arr.reshape(-1, 24, 24, 1)\n",
    "print(\"Reshaped Image Shape = \", img_reshape.shape)\n",
    "\n",
    "x_input = img_reshape/255.0"
   ]
  },
  {
   "cell_type": "code",
   "execution_count": null,
   "metadata": {},
   "outputs": [],
   "source": [
    "new_model = tf.keras.models.load_model('Training Results//CNN Model-2/75 Epoch/modelCNN_2_75Epoch.h5')\n",
    "label = ['closed','open']\n",
    "\n",
    "prediction = new_model.predict(x_input)\n",
    "prediction_class = np.round(prediction).tolist()\n",
    "print(\"Prediction Value = \", prediction)\n",
    "#class = new_model.predict_classes(x_input)\n",
    "\n",
    "print(prediction_class)\n",
    "if prediction < 0.5 : \n",
    "    print (\"eye is\", label[0])\n",
    "else :\n",
    "    print (\"eye is\", label[1]) \n"
   ]
  }
 ],
 "metadata": {
  "kernelspec": {
   "display_name": "base",
   "language": "python",
   "name": "python3"
  },
  "language_info": {
   "codemirror_mode": {
    "name": "ipython",
    "version": 3
   },
   "file_extension": ".py",
   "mimetype": "text/x-python",
   "name": "python",
   "nbconvert_exporter": "python",
   "pygments_lexer": "ipython3",
   "version": "3.6.13"
  },
  "orig_nbformat": 4
 },
 "nbformat": 4,
 "nbformat_minor": 2
}
